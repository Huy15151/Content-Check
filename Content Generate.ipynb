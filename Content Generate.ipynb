{
 "cells": [
  {
   "cell_type": "code",
   "execution_count": 1,
   "metadata": {},
   "outputs": [],
   "source": [
    "import pandas as pd\n",
    "import gspread\n",
    "from google.auth.transport.requests import Request\n",
    "from google_auth_oauthlib.flow import InstalledAppFlow\n",
    "import pickle\n",
    "import os\n",
    "from datetime import datetime\n",
    "import json\n",
    "from gspread_dataframe import set_with_dataframe\n",
    "import time\n",
    "from selenium import webdriver\n",
    "from selenium.webdriver.common.by import By\n",
    "from bs4 import BeautifulSoup"
   ]
  },
  {
   "cell_type": "code",
   "execution_count": 2,
   "metadata": {},
   "outputs": [],
   "source": [
    "#Connect to GGSheet\n",
    "scope = [\"https://www.googleapis.com/auth/spreadsheets\", \"https://www.googleapis.com/auth/drive\"]\n",
    "# Path to the token.pickle file where the user's access and refresh tokens are stored\n",
    "TOKEN_PICKLE_FILE = 'token.pickle'\n",
    "CREDENTIALS_FILE = r\"C:\\\\Python work space\\DA\\\\client_secret_576124395548-hmv76ft3pgqcn65mtoj5vr8um38soqsh.apps.googleusercontent.com.json\"\n",
    "\n",
    "# Authenticate using OAuth2\n",
    "def authenticate():\n",
    "    creds = None\n",
    "    if os.path.exists(TOKEN_PICKLE_FILE):\n",
    "        with open(TOKEN_PICKLE_FILE, 'rb') as token:\n",
    "            creds = pickle.load(token)\n",
    "    if not creds or not creds.valid:\n",
    "        if creds and creds.expired and creds.refresh_token:\n",
    "            creds.refresh(Request())\n",
    "        else:\n",
    "            flow = InstalledAppFlow.from_client_secrets_file(CREDENTIALS_FILE, scope)\n",
    "            creds = flow.run_local_server(port=0)\n",
    "        with open(TOKEN_PICKLE_FILE, 'wb') as token:\n",
    "            pickle.dump(creds, token)\n",
    "    return creds\n",
    "\n",
    "# Get authenticated client\n",
    "creds = authenticate()\n",
    "client = gspread.authorize(creds)\n",
    "\n",
    "# Create a new Google Sheet or open an existing one\n",
    "spreadsheet = client.open(\"Power Automate\")\n",
    "sheet = spreadsheet.worksheet(\"Sheet1\")"
   ]
  },
  {
   "cell_type": "code",
   "execution_count": 3,
   "metadata": {},
   "outputs": [],
   "source": [
    "demo_data = sheet.col_values(3)[1:]"
   ]
  },
  {
   "cell_type": "code",
   "execution_count": 4,
   "metadata": {},
   "outputs": [
    {
     "data": {
      "text/plain": [
       "['1. Cá cược là hoạt động mà người chơi đặt tiền vào kết quả của sự kiện nào đó, như trận đấu thể thao hoặc trò chơi may rủi.\\n2. Cá cược có thể được thực hiện thông qua các trang web cá cược trực tuyến hoặc tại các nhà cái truyền thống.\\n3. Nhiều người tham gia cá cược để thêm phần hấp dẫn vào việc theo dõi trận đấu hoặc trò chơi và cũng để có cơ hội kiếm lời.\\n4. Tuy nhiên, cá cược cũng mang theo rủi ro cao và người chơi cần phải có sự hiểu biết và kiểm soát tài chính của mình.\\n5. Để tránh rủi ro và tiêu cực trong cá cược, người chơi cần biết cách đặt mức cược hợp lý và không nên đặt cược dựa trên may rủi.',\n",
       " '1. Bóng đá là một môn thể thao đầy sức hấp dẫn và gay cấn, thu hút hàng triệu người trên khắp thế giới.\\n2. Các trận đấu bóng đá không chỉ góp phần tạo nên niềm vui, mà còn thể hiện sự gắn kết và đoàn kết giữa người hâm mộ.\\n3. Các cầu thủ bóng đá luôn phải rèn luyện và tập luyện chăm chỉ để có thể cống hiến những trận đấu đỉnh cao.\\n4. World Cup là giải đấu bóng đá lớn nhất và được mong chờ nhất hàng năm, thu hút sự quan tâm của hàng triệu người hâm mộ trên khắp thế giới.',\n",
       " '1. Thể thao là một phần quan trọng trong cuộc sống của nhiều người, giúp họ giữ gìn sức khỏe và tăng cường sức mạnh cơ thể.\\n2. Việc tham gia vào các hoạt động thể thao không chỉ giúp cải thiện vóc dáng mà còn tạo ra cơ hội gặp gỡ và kết nối với nhiều người khác.\\n3. Các môn thể thao như bóng đá, bóng rổ, cầu lông, bơi lội, jogging đều đem lại nhiều lợi ích cho sức khỏe tinh thần và thể chất.\\n4. Thể thao cũng giúp rèn luyện lòng kiên nhẫn, sự tự tin và khả năng làm việc nhóm, những kỹ năng quan trọng cho cuộc sống hàng ngày.\\n5. Việc thể thao đều đặn không chỉ giúp cải thiện sức khỏe mà còn tạo ra cơ hội thể hiện bản thân, đạt được thành công và niềm vui trong cuộc sống.']"
      ]
     },
     "execution_count": 4,
     "metadata": {},
     "output_type": "execute_result"
    }
   ],
   "source": [
    "demo_data"
   ]
  },
  {
   "cell_type": "code",
   "execution_count": 5,
   "metadata": {},
   "outputs": [],
   "source": [
    "driver = webdriver.Chrome()  # Assumes chromedriver is in PATH\n",
    "\n",
    "results = []  # To store results from the webpage\n",
    "driver.get('https://www.zerogpt.com')\n",
    "try:\n",
    "    # Loop through each entry in the Demo column\n",
    "    for input_data in demo_data:  \n",
    "        # Locate the textarea and input text\n",
    "        textarea = driver.find_element(By.ID, 'textArea')\n",
    "        textarea.clear()  # Clear the textarea if needed\n",
    "        textarea.send_keys(input_data)  # Input your data\n",
    "        time.sleep(5)\n",
    "\n",
    "        # Locate and click the button\n",
    "        button = driver.find_element(By.CLASS_NAME, 'scoreButton')\n",
    "        button.click()\n",
    "\n",
    "        # Wait for the result to load\n",
    "        time.sleep(10)  # Adjust the sleep time as necessary\n",
    "\n",
    "        # Get the page source after the JavaScript has executed\n",
    "        html = driver.page_source\n",
    "\n",
    "        # Use Beautiful Soup to parse the HTML\n",
    "        soup = BeautifulSoup(html, 'html.parser')\n",
    "\n",
    "        # Find all matching <span> elements\n",
    "        spans = soup.find_all('span', class_='header-text text-center')\n",
    "\n",
    "        # Check if there are at least two spans found\n",
    "        if len(spans) > 1:\n",
    "            second_span_text = spans[1].get_text(strip=True)\n",
    "            results.append(second_span_text)  # Store the result\n",
    "        else:\n",
    "            results.append('Not Found')  # Store a default value if not found\n",
    "\n",
    "finally:\n",
    "    # Close the WebDriver\n",
    "    driver.quit()\n"
   ]
  },
  {
   "cell_type": "code",
   "execution_count": 6,
   "metadata": {},
   "outputs": [
    {
     "name": "stdout",
     "output_type": "stream",
     "text": [
      "Results uploaded successfully to column AI %.\n"
     ]
    }
   ],
   "source": [
    "# Update the Google Sheet with results in column \"AI %\" (assuming it's column AI)\n",
    "for i, result in enumerate(results):\n",
    "    sheet.update_cell(i + 2, 4, result)  # Column 4 is AI (1-indexed)\n",
    "print(\"Results uploaded successfully to column AI %.\")"
   ]
  }
 ],
 "metadata": {
  "kernelspec": {
   "display_name": "Python 3",
   "language": "python",
   "name": "python3"
  },
  "language_info": {
   "codemirror_mode": {
    "name": "ipython",
    "version": 3
   },
   "file_extension": ".py",
   "mimetype": "text/x-python",
   "name": "python",
   "nbconvert_exporter": "python",
   "pygments_lexer": "ipython3",
   "version": "3.11.9"
  }
 },
 "nbformat": 4,
 "nbformat_minor": 2
}
